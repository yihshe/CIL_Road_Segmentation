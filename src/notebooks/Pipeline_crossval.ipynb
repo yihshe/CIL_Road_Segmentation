{
 "cells": [
  {
   "cell_type": "markdown",
   "metadata": {},
   "source": [
    "### Fucking imports"
   ]
  },
  {
   "cell_type": "code",
   "execution_count": null,
   "metadata": {},
   "outputs": [],
   "source": [
    "# System\n",
    "import os, sys, io, glob, time\n",
    "\n",
    "# Model\n",
    "from models.uNet import *\n",
    "from helpers.training_crossval import training\n",
    "from helpers.cross_val import build_k_indices\n",
    "from helpers.aerial_dataset import AerialDataset\n",
    "from helpers.patched_aerial_dataset import PatchedAerialDataset\n",
    "from helpers.image_helpers import imshow_tensor, imshow_tensor_gt, generate_predictions\n",
    "from helpers.preprocessing.augmentation_config import ImageAugmentationConfig\n",
    "from helpers.mask_to_submission import *\n",
    "import random\n",
    "\n",
    "# ML Library\n",
    "import numpy as np\n",
    "import torch, torchvision\n",
    "import torch.optim as optim\n",
    "from torch.autograd import Variable\n",
    "from torch.optim import lr_scheduler\n",
    "from torch.utils.data import DataLoader, Dataset\n",
    "\n",
    "# Image processing\n",
    "%matplotlib inline\n",
    "import matplotlib.pyplot as plt\n",
    "import matplotlib.image as mpimg\n",
    "\n",
    "# Reloading\n",
    "%load_ext autoreload\n",
    "%autoreload 2"
   ]
  },
  {
   "cell_type": "markdown",
   "metadata": {},
   "source": [
    "### Fucking Constants"
   ]
  },
  {
   "cell_type": "code",
   "execution_count": null,
   "metadata": {},
   "outputs": [],
   "source": [
    "TRAIN_IMAGE_DATA = './data/train/images/'\n",
    "TRAIN_LABEL_DATA = './data/train/groundtruth/'\n",
    "TEST_IMAGE_DATA = './data/test/images/'\n",
    "TEST_LABEL_DATA = './data/train/predictions/'\n",
    "\n",
    "SEED = 428796\n",
    "\n",
    "BATCH_SIZE = 64\n",
    "NUM_EPOCHS = 30\n",
    "PATCH_SIZE = 80\n",
    "TESTING_SIZE = 50\n",
    "\n",
    "DATA_SIZE = 100\n",
    "TRAINING_SIZE = 80\n",
    "\n",
    "TEST_IMG_W, TEST_IMG_H, TEST_PATCH_SIZE_W, TEST_PATCH_SIZE_H = 608, 608, 16, 16\n",
    "THRESHOLD = 0.25\n",
    "\n",
    "CUDA = True\n",
    "PERM = True\n",
    "\n",
    "# np.random.seed(SEED)\n",
    "# random.seed(SEED)\n",
    "# if CUDA:torch.cuda.manual_seed_all(SEED)\n",
    "\n",
    "dic = {\"bsize\" : BATCH_SIZE,\n",
    "      \"psize\": PATCH_SIZE,\n",
    "      \"threshold\" : THRESHOLD}\n",
    "with open('./progress.txt', 'a') as file:\n",
    "    file.writelines('\\n' + \"Running the code\" + time.strftime(\"%d-%m-%Y-%h-%s\") + '\\n')\n",
    "    file.writelines('Params : ' + str(dic))"
   ]
  },
  {
   "cell_type": "markdown",
   "metadata": {},
   "source": [
    "### Fucking image augmentation"
   ]
  },
  {
   "cell_type": "code",
   "execution_count": null,
   "metadata": {},
   "outputs": [],
   "source": [
    "aug_config = ImageAugmentationConfig()\n",
    "aug_config.rotation(range(10, 180, 10))\n",
    "#aug_config.edge()\n",
    "#aug_config.blur()\n",
    "#aug_config.contrast()"
   ]
  },
  {
   "cell_type": "markdown",
   "metadata": {},
   "source": [
    "### Fucking Datasets"
   ]
  },
  {
   "cell_type": "code",
   "execution_count": null,
   "metadata": {},
   "outputs": [],
   "source": [
    "K_FOLD = 1"
   ]
  },
  {
   "cell_type": "code",
   "execution_count": null,
   "metadata": {},
   "outputs": [],
   "source": [
    "k_indices = build_k_indices(1, DATA_SIZE, K_FOLD)\n",
    "datasets, dataloaders = [], []\n",
    "\n",
    "for k in range(K_FOLD):\n",
    "    print('Building fold {}'.format(k))\n",
    "    # Get fold indices\n",
    "    train_indices, val_indices = k_indices[k][1], k_indices[k][0]\n",
    "    \n",
    "    # Build datasets\n",
    "    trainset = PatchedAerialDataset(TRAIN_IMAGE_DATA, TRAIN_LABEL_DATA, train_indices, PATCH_SIZE, aug_config)\n",
    "    validationset = PatchedAerialDataset(TRAIN_IMAGE_DATA, TRAIN_LABEL_DATA, val_indices, PATCH_SIZE, aug_config)\n",
    "    \n",
    "    # Build data loaders\n",
    "    trainloader = DataLoader(trainset, batch_size=BATCH_SIZE, shuffle=True)\n",
    "    validationloader = DataLoader(validationset, batch_size=1, shuffle=False)\n",
    "    \n",
    "    datasets.append({'train':trainset, 'val':validationset})\n",
    "    dataloaders.append({'train':trainloader, 'val':validationloader})"
   ]
  },
  {
   "cell_type": "markdown",
   "metadata": {},
   "source": [
    "### Fucking uNet"
   ]
  },
  {
   "cell_type": "code",
   "execution_count": null,
   "metadata": {},
   "outputs": [],
   "source": [
    "models = []\n",
    "for k in range(K_FOLD):\n",
    "    model = UNet().cuda(1)\n",
    "    dic = {\n",
    "        'model': model,\n",
    "        'criterion': torch.nn.BCEWithLogitsLoss().cuda(1),\n",
    "        'optimizer': optim.Adam(model.parameters(), lr=0.001)\n",
    "    }\n",
    "    \n",
    "    models.append(dic)"
   ]
  },
  {
   "cell_type": "markdown",
   "metadata": {},
   "source": [
    "### Fucking Training"
   ]
  },
  {
   "cell_type": "code",
   "execution_count": null,
   "metadata": {
    "scrolled": true
   },
   "outputs": [],
   "source": [
    "acc, best_model = training(NUM_EPOCHS, models, datasets, dataloaders, PATCH_SIZE, K_FOLD, cuda=CUDA)"
   ]
  },
  {
   "cell_type": "markdown",
   "metadata": {},
   "source": [
    "### Fucking plotting the fucking accuracy vs epoch fucking plot"
   ]
  },
  {
   "cell_type": "code",
   "execution_count": null,
   "metadata": {},
   "outputs": [],
   "source": [
    "# Print accuracy curve\n",
    "fig = plt.figure()\n",
    "x = np.arange(0, NUM_EPOCHS)\n",
    "plt.plot(x, acc, '--')\n",
    "fig.suptitle(time.strftime(\"%d-%m-%Y\" ))\n",
    "\n",
    "plt.xlabel('epoch')\n",
    "plt.ylabel('accuracy (validation data)')\n",
    "plt.savefig('./plots/epoch_accuracy' + time.strftime(\"%d-%m-%Y-%h-%s\") + '.png', dpi=fig.dpi)\n",
    "plt.show()"
   ]
  },
  {
   "cell_type": "markdown",
   "metadata": {
    "scrolled": false
   },
   "source": [
    "### Time to get the FUCKING testing data"
   ]
  },
  {
   "cell_type": "code",
   "execution_count": null,
   "metadata": {},
   "outputs": [],
   "source": [
    "test_indices = np.arange(1, TESTING_SIZE+ 1,1)\n",
    "testset = AerialDataset(TEST_IMAGE_DATA, test_indices, aug_config)\n",
    "testloader = DataLoader(testset, batch_size=1, shuffle=False)"
   ]
  },
  {
   "cell_type": "markdown",
   "metadata": {},
   "source": [
    "### Feed the motherfucking NN testing data"
   ]
  },
  {
   "cell_type": "code",
   "execution_count": null,
   "metadata": {},
   "outputs": [],
   "source": [
    "truth = []\n",
    "predicted_labels = []\n",
    "model.eval()\n",
    "for data in testloader:\n",
    "    patches = data\n",
    "    \n",
    "    if CUDA:\n",
    "        patches = patches.cuda(1)\n",
    "        \n",
    "    patches = Variable(patches)\n",
    "\n",
    "    # Feed the neural net with the patches\n",
    "    outputs = model(patches)\n",
    "    predicted = np.rint(outputs.squeeze().data.cpu().numpy())\n",
    "    predicted_labels.append(predicted)\n",
    "    truth.append(patches)"
   ]
  },
  {
   "cell_type": "markdown",
   "metadata": {},
   "source": [
    "### How about looking at one output ?"
   ]
  },
  {
   "cell_type": "code",
   "execution_count": null,
   "metadata": {},
   "outputs": [],
   "source": [
    "image_id = 40\n",
    "\n",
    "imshow_tensor(torchvision.utils.make_grid(truth[image_id].cpu().data, normalize=True))\n",
    "plt.imshow(predicted_labels[image_id])"
   ]
  },
  {
   "cell_type": "code",
   "execution_count": null,
   "metadata": {},
   "outputs": [],
   "source": [
    "def labels_to_patches(image, imgw, imgh, pw, ph, threshold):\n",
    "    array_labels = np.zeros([imgh, imgh])\n",
    "    for i in range(0,imgw,pw):\n",
    "        for j in range(0,imgw,ph):\n",
    "            mean = np.mean(image[i:i+pw, j:j+ph])\n",
    "            if mean > threshold: array_labels[i:i+pw, j:j+ph] = 1\n",
    "            else: array_labels[i:i+pw, j:j+ph] = 0\n",
    "    return array_labels"
   ]
  },
  {
   "cell_type": "code",
   "execution_count": null,
   "metadata": {},
   "outputs": [],
   "source": [
    "img_patches = []\n",
    "for labels in predicted_labels:\n",
    "    img_patches.append(labels_to_patches(labels, TEST_IMG_W, TEST_IMG_H, TEST_PATCH_SIZE_W, TEST_PATCH_SIZE_H, THRESHOLD))"
   ]
  },
  {
   "cell_type": "code",
   "execution_count": null,
   "metadata": {},
   "outputs": [],
   "source": [
    "plt.imshow(np.concatenate([predicted_labels[image_id],img_patches[image_id]], 1))"
   ]
  },
  {
   "cell_type": "code",
   "execution_count": null,
   "metadata": {},
   "outputs": [],
   "source": [
    "generate_predictions(TESTING_SIZE, img_patches, concatenate = False)"
   ]
  },
  {
   "cell_type": "code",
   "execution_count": null,
   "metadata": {},
   "outputs": [],
   "source": [
    "generate_submission_csv()"
   ]
  }
 ],
 "metadata": {
  "kernelspec": {
   "display_name": "Python 3",
   "language": "python",
   "name": "python3"
  },
  "language_info": {
   "codemirror_mode": {
    "name": "ipython",
    "version": 3
   },
   "file_extension": ".py",
   "mimetype": "text/x-python",
   "name": "python",
   "nbconvert_exporter": "python",
   "pygments_lexer": "ipython3",
   "version": "3.5.4"
  }
 },
 "nbformat": 4,
 "nbformat_minor": 2
}
