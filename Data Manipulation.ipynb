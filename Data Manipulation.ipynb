{
 "cells": [
  {
   "cell_type": "code",
   "execution_count": 1,
   "metadata": {
    "colab": {},
    "colab_type": "code",
    "id": "ri_KIP779JhZ"
   },
   "outputs": [],
   "source": [
    "import numpy as np\n",
    "import pickle\n",
    "import cv2\n",
    "from tqdm import tqdm_notebook\n",
    "import os\n",
    "import json\n",
    "import math\n",
    "import h5py\n",
    "\n",
    "\n",
    "from matplotlib.pyplot import imshow\n",
    "from matplotlib import pyplot as plt\n",
    "%matplotlib inline"
   ]
  },
  {
   "cell_type": "code",
   "execution_count": 2,
   "metadata": {
    "colab": {},
    "colab_type": "code",
    "id": "O8XE6Agx9Jhf"
   },
   "outputs": [],
   "source": [
    "img_width = img_height = 256\n",
    "stride = 64\n",
    "num_channels = 3\n",
    "root_path = \"../Data/\"\n",
    "mode = 'training'"
   ]
  },
  {
   "cell_type": "code",
   "execution_count": 4,
   "metadata": {
    "colab": {
     "base_uri": "https://localhost:8080/",
     "height": 367
    },
    "colab_type": "code",
    "executionInfo": {
     "elapsed": 1087,
     "status": "error",
     "timestamp": 1585647512481,
     "user": {
      "displayName": "Zhehan Fu",
      "photoUrl": "",
      "userId": "03260201872046563863"
     },
     "user_tz": -120
    },
    "id": "F1l10Nlo9Jhk",
    "outputId": "b8b8ac7f-456e-408f-c3c3-aeec79692365"
   },
   "outputs": [
    {
     "name": "stdout",
     "output_type": "stream",
     "text": [
      "Total number of files = 100\n",
      "satImage_001.png\n",
      "satImage_002.png\n",
      "satImage_003.png\n",
      "satImage_004.png\n",
      "satImage_005.png\n",
      "satImage_006.png\n",
      "satImage_007.png\n",
      "satImage_008.png\n",
      "satImage_009.png\n",
      "satImage_010.png\n",
      "satImage_011.png\n",
      "satImage_012.png\n",
      "satImage_013.png\n",
      "satImage_014.png\n",
      "satImage_015.png\n",
      "satImage_016.png\n",
      "satImage_017.png\n",
      "satImage_018.png\n",
      "satImage_019.png\n",
      "satImage_020.png\n",
      "satImage_021.png\n",
      "satImage_022.png\n",
      "satImage_023.png\n",
      "satImage_024.png\n",
      "satImage_025.png\n",
      "satImage_026.png\n",
      "satImage_027.png\n",
      "satImage_028.png\n",
      "satImage_029.png\n",
      "satImage_030.png\n",
      "satImage_031.png\n",
      "satImage_032.png\n",
      "satImage_033.png\n",
      "satImage_034.png\n",
      "satImage_035.png\n",
      "satImage_036.png\n",
      "satImage_037.png\n",
      "satImage_038.png\n",
      "satImage_039.png\n",
      "satImage_040.png\n",
      "satImage_041.png\n",
      "satImage_042.png\n",
      "satImage_043.png\n",
      "satImage_044.png\n",
      "satImage_045.png\n",
      "satImage_046.png\n",
      "satImage_047.png\n",
      "satImage_048.png\n",
      "satImage_049.png\n",
      "satImage_050.png\n",
      "satImage_051.png\n",
      "satImage_052.png\n",
      "satImage_053.png\n",
      "satImage_054.png\n",
      "satImage_055.png\n",
      "satImage_056.png\n",
      "satImage_057.png\n",
      "satImage_058.png\n",
      "satImage_059.png\n",
      "satImage_060.png\n",
      "satImage_061.png\n",
      "satImage_062.png\n",
      "satImage_063.png\n",
      "satImage_064.png\n",
      "satImage_065.png\n",
      "satImage_066.png\n",
      "satImage_067.png\n",
      "satImage_068.png\n",
      "satImage_069.png\n",
      "satImage_070.png\n",
      "satImage_071.png\n",
      "satImage_072.png\n",
      "satImage_073.png\n",
      "satImage_074.png\n",
      "satImage_075.png\n",
      "satImage_076.png\n",
      "satImage_077.png\n",
      "satImage_078.png\n",
      "satImage_079.png\n",
      "satImage_080.png\n",
      "satImage_081.png\n",
      "satImage_082.png\n",
      "satImage_083.png\n",
      "satImage_084.png\n",
      "satImage_085.png\n",
      "satImage_086.png\n",
      "satImage_087.png\n",
      "satImage_088.png\n",
      "satImage_089.png\n",
      "satImage_090.png\n",
      "satImage_091.png\n",
      "satImage_092.png\n",
      "satImage_093.png\n",
      "satImage_094.png\n",
      "satImage_095.png\n",
      "satImage_096.png\n",
      "satImage_097.png\n",
      "satImage_098.png\n",
      "satImage_099.png\n",
      "satImage_100.png\n"
     ]
    }
   ],
   "source": [
    "def crop_and_save():\n",
    "    \"\"\"\n",
    "    Imports images and crops to multiple sub images of a definite size inorder to preserve the resolution of the images and maximise the number of images that are available.\n",
    "    \"\"\"\n",
    "    \n",
    "    files = next(os.walk(root_path + mode + '/images/'))[2]\n",
    "    print('Total number of files =',len(files))\n",
    "    \n",
    "    counter = 0\n",
    "    for image_file in files:\n",
    "       \n",
    "        print(image_file)\n",
    "        image_path = root_path+mode+'/images/'+image_file\n",
    "        image = cv2.imread(image_path)\n",
    "        \n",
    "        mask_path = root_path+mode+'/groundtruth/'+image_file\n",
    "        mask = cv2.imread(mask_path, 0)\n",
    "        \n",
    "        \n",
    "        for r in range(0, image.shape[0], stride):\n",
    "            for c in range(0, image.shape[1], stride):\n",
    "                if r+img_height<=image.shape[0] and c+img_width<=image.shape[1]:\n",
    "                    counter += 1\n",
    "                    blank_image = np.zeros((img_height ,img_width, 3), dtype = int)\n",
    "                    blank_mask = np.zeros((img_height ,img_width), dtype = int)\n",
    "                \n",
    "                    new_image_path = root_path+mode+'/images2/' + 'satImage_' + '{:03d}'.format(counter) + '.png'\n",
    "                    new_mask_path = root_path+mode+'/groundtruth2/' + 'satImage_' + '{:03d}'.format(counter) + '.png'\n",
    "                \n",
    "                    new_image = np.array(image[r:r+img_height, c:c+img_width,:])\n",
    "                    new_mask = np.array(mask[r:r+img_height, c:c+img_width])\n",
    "            \n",
    "                \n",
    "                    blank_image[:new_image.shape[0], :new_image.shape[1], :] += new_image\n",
    "                    blank_mask[:new_image.shape[0], :new_image.shape[1]] += new_mask\n",
    "\n",
    "                \n",
    "                    cv2.imwrite(new_image_path, blank_image)\n",
    "                    cv2.imwrite(new_mask_path, blank_mask)\n",
    "        \n",
    "crop_and_save()"
   ]
  },
  {
   "cell_type": "code",
   "execution_count": null,
   "metadata": {
    "colab": {
     "base_uri": "https://localhost:8080/",
     "height": 367
    },
    "colab_type": "code",
    "executionInfo": {
     "elapsed": 599,
     "status": "error",
     "timestamp": 1585647538389,
     "user": {
      "displayName": "Zhehan Fu",
      "photoUrl": "",
      "userId": "03260201872046563863"
     },
     "user_tz": -120
    },
    "id": "8amvvA2P9Jhp",
    "outputId": "e2516182-8de9-425a-a01e-166d9fca59fe"
   },
   "outputs": [],
   "source": [
    "all_masks = []\n",
    "all_images = []\n",
    "def compress_images():\n",
    "    \"\"\"\n",
    "    Imports images and respective masks and exports all of them into a h5py file.\n",
    "    \"\"\"\n",
    "    \n",
    "    global all_images, all_masks\n",
    "    rej_count = 0\n",
    "    counter = 0\n",
    "    \n",
    "    files = next(os.walk(root_path + mode + '/images2/'))[2]\n",
    "    print('Total number of files =',len(files))\n",
    "    \n",
    "    for image_file in files:\n",
    "        \n",
    "        counter += 1\n",
    "           \n",
    "        \n",
    "        image_path = root_path+mode+'/images2/'+image_file\n",
    "        image = cv2.imread(image_path)\n",
    "        \n",
    "        mask_path = root_path+mode+'/groundtruth2/'+image_file\n",
    "        mask = cv2.imread(mask_path, 0)\n",
    "        \n",
    "        all_images.append(image)\n",
    "        all_masks.append(mask)   \n",
    "        \n",
    "    \n",
    "    all_images = np.asarray(all_images)\n",
    "    all_masks = np.asarray(all_masks)\n",
    "    \n",
    "    \n",
    "    print(\"Shape of Train Images =\", all_images.shape)\n",
    "    print(\"Shape of Train Labels =\", all_masks.shape)\n",
    "    print(\"Memory size of Image array = \", all_images.nbytes)\n",
    "    \n",
    "    with h5py.File('../Data/ciltrain_images.h5py', 'w') as hf:\n",
    "        hf.create_dataset(\"all_images\",  data=all_images)\n",
    "    with h5py.File('../Data/ciltrain_masks.h5py', 'w') as hf:\n",
    "        hf.create_dataset(\"all_masks\",  data=all_masks)\n",
    "    \n",
    "    print(\"Data has been successfully exported.\")\n",
    "    \n",
    "compress_images()"
   ]
  },
  {
   "cell_type": "code",
   "execution_count": null,
   "metadata": {
    "colab": {
     "base_uri": "https://localhost:8080/",
     "height": 207
    },
    "colab_type": "code",
    "executionInfo": {
     "elapsed": 555,
     "status": "error",
     "timestamp": 1585647545304,
     "user": {
      "displayName": "Zhehan Fu",
      "photoUrl": "",
      "userId": "03260201872046563863"
     },
     "user_tz": -120
    },
    "id": "HLyKNw1G9Jht",
    "outputId": "8a4bd55e-da00-4306-8572-64cd30b8d2bc"
   },
   "outputs": [],
   "source": [
    "print(\"Shape of Train Images =\", all_images.shape)\n",
    "print(\"Shape of Train Labels =\", all_masks.shape)"
   ]
  },
  {
   "cell_type": "code",
   "execution_count": null,
   "metadata": {
    "colab": {},
    "colab_type": "code",
    "id": "47pYUYSE9Wk2"
   },
   "outputs": [],
   "source": [
    "'{:04d}'.format(42)"
   ]
  },
  {
   "cell_type": "code",
   "execution_count": null,
   "metadata": {},
   "outputs": [],
   "source": []
  }
 ],
 "metadata": {
  "colab": {
   "name": "Data Manipulation.ipynb",
   "provenance": []
  },
  "kernelspec": {
   "display_name": "Python 3",
   "language": "python",
   "name": "python3"
  },
  "language_info": {
   "codemirror_mode": {
    "name": "ipython",
    "version": 3
   },
   "file_extension": ".py",
   "mimetype": "text/x-python",
   "name": "python",
   "nbconvert_exporter": "python",
   "pygments_lexer": "ipython3",
   "version": "3.8.2"
  }
 },
 "nbformat": 4,
 "nbformat_minor": 1
}
