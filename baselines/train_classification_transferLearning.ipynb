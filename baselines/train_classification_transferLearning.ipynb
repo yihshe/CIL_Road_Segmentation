{
  "nbformat": 4,
  "nbformat_minor": 0,
  "metadata": {
    "colab": {
      "name": "train_classification_transferLearning",
      "provenance": [],
      "collapsed_sections": [],
      "machine_shape": "hm"
    },
    "kernelspec": {
      "name": "python3",
      "display_name": "Python 3"
    },
    "accelerator": "GPU"
  },
  "cells": [
    {
      "cell_type": "markdown",
      "metadata": {
        "id": "mVURGxTjnZQZ",
        "colab_type": "text"
      },
      "source": [
        "# CIL Road Segmentation Project 2020 \n",
        "Group Roadtripper\n",
        "\n",
        "\n",
        "*   Tommaso\n",
        "*   Yihang\n",
        "*   Zhenhan\n",
        "*   Jonas\n",
        "\n",
        "\n",
        "---\n",
        "\n"
      ]
    },
    {
      "cell_type": "markdown",
      "metadata": {
        "id": "gB4JL2ZAo1dr",
        "colab_type": "text"
      },
      "source": [
        "# Establishment of the working environment\n",
        "First, we have to import some needed python helper libraries like numpy. Then we need to import Keras, which is built on top of Tensorflow."
      ]
    },
    {
      "cell_type": "code",
      "metadata": {
        "id": "GK9zsnzCDiDk",
        "colab_type": "code",
        "colab": {
          "base_uri": "https://localhost:8080/",
          "height": 35
        },
        "outputId": "402f4959-15a5-42fb-c4b8-0e8dcd87d6c9"
      },
      "source": [
        "# Import Colab libraries\n",
        "from google.colab import drive\n",
        "import os\n",
        "\n",
        "# Import Numpy and Mathplot\n",
        "import numpy as np\n",
        "import matplotlib.pyplot as plt\n",
        "import matplotlib.image as mpimg\n",
        "\n",
        "# Import scikit-learn\n",
        "from sklearn.model_selection import train_test_split\n",
        "\n",
        "# Import Keras with backend Tensorflow\n",
        "import tensorflow as tf\n",
        "from tensorflow.keras.callbacks import ReduceLROnPlateau, EarlyStopping, ModelCheckpoint\n",
        "from tensorflow.keras.optimizers import Adam\n",
        "from tensorflow.python.keras.layers import *\n",
        "from tensorflow.python.keras import Sequential\n",
        "import keras\n",
        "from keras.utils import np_utils"
      ],
      "execution_count": null,
      "outputs": [
        {
          "output_type": "stream",
          "text": [
            "Using TensorFlow backend.\n"
          ],
          "name": "stderr"
        }
      ]
    },
    {
      "cell_type": "code",
      "metadata": {
        "id": "FwVG9AcIU5i1",
        "colab_type": "code",
        "colab": {
          "base_uri": "https://localhost:8080/",
          "height": 35
        },
        "outputId": "5a4b05ae-e760-4be3-e9f5-8e91aa357c2b"
      },
      "source": [
        "keras.__version__"
      ],
      "execution_count": null,
      "outputs": [
        {
          "output_type": "execute_result",
          "data": {
            "application/vnd.google.colaboratory.intrinsic": {
              "type": "string"
            },
            "text/plain": [
              "'2.3.1'"
            ]
          },
          "metadata": {
            "tags": []
          },
          "execution_count": 2
        }
      ]
    },
    {
      "cell_type": "code",
      "metadata": {
        "id": "wUx1EI8TU8w-",
        "colab_type": "code",
        "colab": {
          "base_uri": "https://localhost:8080/",
          "height": 35
        },
        "outputId": "2293f638-2b8c-4e52-a03f-c7d212109db9"
      },
      "source": [
        "tf.__version__"
      ],
      "execution_count": null,
      "outputs": [
        {
          "output_type": "execute_result",
          "data": {
            "application/vnd.google.colaboratory.intrinsic": {
              "type": "string"
            },
            "text/plain": [
              "'2.2.0'"
            ]
          },
          "metadata": {
            "tags": []
          },
          "execution_count": 3
        }
      ]
    },
    {
      "cell_type": "code",
      "metadata": {
        "id": "g4YHaCBi47fh",
        "colab_type": "code",
        "colab": {
          "base_uri": "https://localhost:8080/",
          "height": 35
        },
        "outputId": "c7169d6e-5d1a-483a-fcd2-8071ed260d57"
      },
      "source": [
        "# Test, if Google Colab runs in GPU mode\n",
        "tf.test.gpu_device_name()"
      ],
      "execution_count": null,
      "outputs": [
        {
          "output_type": "execute_result",
          "data": {
            "application/vnd.google.colaboratory.intrinsic": {
              "type": "string"
            },
            "text/plain": [
              "'/device:GPU:0'"
            ]
          },
          "metadata": {
            "tags": []
          },
          "execution_count": 77
        }
      ]
    },
    {
      "cell_type": "code",
      "metadata": {
        "id": "44vGx67MFfpq",
        "colab_type": "code",
        "colab": {
          "base_uri": "https://localhost:8080/",
          "height": 35
        },
        "outputId": "044b7ba9-d707-4c1a-84d3-0f886aab44e4"
      },
      "source": [
        "# Mount Google Drive to virtual machine\n",
        "drive.mount('/content/drive/')"
      ],
      "execution_count": null,
      "outputs": [
        {
          "output_type": "stream",
          "text": [
            "Drive already mounted at /content/drive/; to attempt to forcibly remount, call drive.mount(\"/content/drive/\", force_remount=True).\n"
          ],
          "name": "stdout"
        }
      ]
    },
    {
      "cell_type": "code",
      "metadata": {
        "id": "VMFfRRD4RWie",
        "colab_type": "code",
        "colab": {
          "base_uri": "https://localhost:8080/",
          "height": 35
        },
        "outputId": "f240a1a9-86f3-4e81-9f92-4482b4be8519"
      },
      "source": [
        "# Change directory to working folder\n",
        "%cd '/content/drive/My Drive/CIL2020_Project/model1_classification'"
      ],
      "execution_count": null,
      "outputs": [
        {
          "output_type": "stream",
          "text": [
            "/content/drive/My Drive/CIL2020_Project/model1_classification\n"
          ],
          "name": "stdout"
        }
      ]
    },
    {
      "cell_type": "markdown",
      "metadata": {
        "id": "4MuMgHAnoUlq",
        "colab_type": "text"
      },
      "source": [
        "# Image Import\n",
        "First, we load the training images and their coresponding ground truth in the numpy array x_train and y_train. Then we split the available data into training and validation data."
      ]
    },
    {
      "cell_type": "code",
      "metadata": {
        "id": "98w3GyNvi6Y_",
        "colab_type": "code",
        "colab": {
          "base_uri": "https://localhost:8080/",
          "height": 53
        },
        "outputId": "a846e6c1-c8fa-448e-c564-c129f2bc48b0"
      },
      "source": [
        "# Load images\n",
        "\n",
        "# Root directory for training samples\n",
        "root_dir = \"training/\"\n",
        "\n",
        "# Folder with satelite images\n",
        "x_directory = root_dir + \"images/\"\n",
        "\n",
        "# Folder with groundtruth images\n",
        "y_directory = root_dir + \"groundtruth/\"\n",
        "\n",
        "# List all images\n",
        "files = os.listdir(x_directory)\n",
        "\n",
        "# Get image length\n",
        "n = len(files)\n",
        "\n",
        "print(\"Loading \" + str(n) + \" satelite images into x_train\")\n",
        "x_train = np.asarray([mpimg.imread(x_directory + files[i]) for i in range(n)])\n",
        "\n",
        "\n",
        "print(\"Loading \" + str(n) + \" ground-truth images into y_train\")\n",
        "y_train = np.asarray([mpimg.imread(y_directory + files[i]) for i in range(n)])"
      ],
      "execution_count": null,
      "outputs": [
        {
          "output_type": "stream",
          "text": [
            "Loading 100 satelite images into x_train\n",
            "Loading 100 ground-truth images into y_train\n"
          ],
          "name": "stdout"
        }
      ]
    },
    {
      "cell_type": "code",
      "metadata": {
        "id": "tvVyyg9ujUgV",
        "colab_type": "code",
        "colab": {
          "base_uri": "https://localhost:8080/",
          "height": 53
        },
        "outputId": "f4b8c3bf-3987-4bda-aadb-2e7a3df144bf"
      },
      "source": [
        "# Print the shape of both arrays\n",
        "print(\"x_train shape: \" + str(x_train.shape))\n",
        "print(\"y_train shape: \" + str(y_train.shape))"
      ],
      "execution_count": null,
      "outputs": [
        {
          "output_type": "stream",
          "text": [
            "x_train shape: (100, 456, 456, 3)\n",
            "y_train shape: (100, 456, 456, 3)\n"
          ],
          "name": "stdout"
        }
      ]
    },
    {
      "cell_type": "code",
      "metadata": {
        "id": "7Q8lwSAa8n1E",
        "colab_type": "code",
        "cellView": "both",
        "colab": {
          "base_uri": "https://localhost:8080/",
          "height": 107
        },
        "outputId": "499665b6-1db3-4fa3-99fd-73f998cd38f8"
      },
      "source": [
        "# Split training and validation data\n",
        "x_train, x_val, y_train, y_val = train_test_split(x_train, y_train, test_size=0.1, random_state=0)\n",
        "\n",
        "print(\"x_train: \", x_train.shape)\n",
        "print(\"y_train: \", y_train.shape)\n",
        "print(\"---------------------------\")\n",
        "print(\"x_val: \", x_val.shape)\n",
        "print(\"y_val: \", y_val.shape)"
      ],
      "execution_count": null,
      "outputs": [
        {
          "output_type": "stream",
          "text": [
            "x_train:  (90, 456, 456, 3)\n",
            "y_train:  (90, 456, 456, 3)\n",
            "---------------------------\n",
            "x_val:  (10, 456, 456, 3)\n",
            "y_val:  (10, 456, 456, 3)\n"
          ],
          "name": "stdout"
        }
      ]
    },
    {
      "cell_type": "code",
      "metadata": {
        "id": "DGgf0VNx9SM5",
        "colab_type": "code",
        "colab": {
          "base_uri": "https://localhost:8080/",
          "height": 287
        },
        "outputId": "17450897-271a-4a5e-8796-cbfbac63cfb2"
      },
      "source": [
        "# Plot two images and the corresponding ground truth images\n",
        "index = 0\n",
        "\n",
        "f, axarr = plt.subplots(2,2)\n",
        "axarr[0,0].imshow(x_train[index])\n",
        "axarr[0,1].imshow(y_train[index])\n",
        "axarr[1,0].imshow(x_train[index+1])\n",
        "axarr[1,1].imshow(y_train[index+1])"
      ],
      "execution_count": null,
      "outputs": [
        {
          "output_type": "execute_result",
          "data": {
            "text/plain": [
              "<matplotlib.image.AxesImage at 0x7fcb3b7f57f0>"
            ]
          },
          "metadata": {
            "tags": []
          },
          "execution_count": 83
        },
        {
          "output_type": "display_data",
          "data": {
            "image/png": "[encoded data removed]",
            "text/plain": [
              "<Figure size 432x288 with 4 Axes>"
            ]
          },
          "metadata": {
            "tags": [],
            "needs_background": "light"
          }
        }
      ]
    },
    {
      "cell_type": "markdown",
      "metadata": {
        "id": "ikIB3zmjqTsB",
        "colab_type": "text"
      },
      "source": [
        "# Preprocessing: Image Patch Generator\n",
        "We have to preprocess the images in order to feed them into the neural network. We do this by creating a python generator which produces training batches of patches, which have a size of 72x72px. This patches are extracted out of the training data images. The center 16x16px is being labeled either 0/1 using the groundtruth image. We augment the patches by rotating and flipping them randomly to have more training samples.\n",
        "\n",
        "The same is done for the validation set."
      ]
    },
    {
      "cell_type": "code",
      "metadata": {
        "id": "dASi6XyR9DLB",
        "colab_type": "code",
        "colab": {}
      },
      "source": [
        "# Define the python generator, which outputs augmented image batches for training\n",
        "def training_generator():\n",
        "            batch_size=125\n",
        "            window_size=72\n",
        "            patch_size=16\n",
        "            nb_classes = 2\n",
        "\n",
        "            while 1:\n",
        "                # Generate one minibatch\n",
        "                X_batch = np.empty((batch_size, window_size, window_size, 3))\n",
        "                Y_batch = np.empty((batch_size, 2))\n",
        "                for i in range(batch_size):\n",
        "                    # Select a random image\n",
        "                    idx = np.random.choice(x_train.shape[0])\n",
        "                    shape = x_train[idx].shape\n",
        "                    \n",
        "                    # Sample a random window from the image\n",
        "                    center = np.random.randint(window_size//2, shape[0] - window_size//2, 2)\n",
        "                    sub_image = x_train[idx][center[0]-window_size//2:center[0]+window_size//2,\n",
        "                                       center[1]-window_size//2:center[1]+window_size//2]\n",
        "                    gt_sub_image = y_train[idx][center[0]-patch_size//2:center[0]+patch_size//2,\n",
        "                                          center[1]-patch_size//2:center[1]+patch_size//2]\n",
        "                    \n",
        "                    # The label does not depend on the image rotation/flip (provided that the rotation is in steps of 90°)\n",
        "                    threshold = 0.25\n",
        "                    label = (np.array([np.mean(gt_sub_image)]) > threshold) * 1\n",
        "                    \n",
        "                    # Image augmentation\n",
        "                    # Random flip\n",
        "                    if np.random.choice(2) == 0:\n",
        "                        # Flip vertically\n",
        "                        sub_image = np.flipud(sub_image)\n",
        "                    if np.random.choice(2) == 0:\n",
        "                        # Flip horizontally\n",
        "                        sub_image = np.fliplr(sub_image)\n",
        "                    \n",
        "                    # Random rotation in steps of 90°\n",
        "                    num_rot = np.random.choice(4)\n",
        "                    sub_image = np.rot90(sub_image, num_rot)\n",
        "\n",
        "                    label = np_utils.to_categorical(label, nb_classes)\n",
        "                    X_batch[i] = sub_image\n",
        "                    Y_batch[i] = label\n",
        "                \n",
        "                    \n",
        "                yield (X_batch, Y_batch)\n"
      ],
      "execution_count": null,
      "outputs": []
    },
    {
      "cell_type": "code",
      "metadata": {
        "id": "O4OckC3s3tj9",
        "colab_type": "code",
        "colab": {}
      },
      "source": [
        "# Create validation set\n",
        "\n",
        "def validation_generator():\n",
        "            batch_size=8000\n",
        "            window_size=72\n",
        "            patch_size=16\n",
        "            nb_classes = 2\n",
        "\n",
        "            while 1:\n",
        "                # Generate one minibatch\n",
        "                X_batch = np.empty((batch_size, window_size, window_size, 3))\n",
        "                Y_batch = np.empty((batch_size, 2))\n",
        "                for i in range(batch_size):\n",
        "                    # Select a random image\n",
        "                    idx = np.random.choice(x_val.shape[0])\n",
        "                    shape = x_val[idx].shape\n",
        "                    \n",
        "                    # Sample a random window from the image\n",
        "                    center = np.random.randint(window_size//2, shape[0] - window_size//2, 2)\n",
        "                    sub_image = x_val[idx][center[0]-window_size//2:center[0]+window_size//2,\n",
        "                                       center[1]-window_size//2:center[1]+window_size//2]\n",
        "                    gt_sub_image = y_val[idx][center[0]-patch_size//2:center[0]+patch_size//2,\n",
        "                                          center[1]-patch_size//2:center[1]+patch_size//2]\n",
        "                    \n",
        "                    # The label does not depend on the image rotation/flip (provided that the rotation is in steps of 90°)\n",
        "                    threshold = 0.25\n",
        "                    label = (np.array([np.mean(gt_sub_image)]) > threshold) * 1\n",
        "                    \n",
        "                    # Image augmentation\n",
        "                    # Random flip\n",
        "                    if np.random.choice(2) == 0:\n",
        "                        # Flip vertically\n",
        "                        sub_image = np.flipud(sub_image)\n",
        "                    if np.random.choice(2) == 0:\n",
        "                        # Flip horizontally\n",
        "                        sub_image = np.fliplr(sub_image)\n",
        "                    \n",
        "                    # Random rotation in steps of 90°\n",
        "                    num_rot = np.random.choice(4)\n",
        "                    sub_image = np.rot90(sub_image, num_rot)\n",
        "\n",
        "                    # Sth TBD further: brightness, zoom level\n",
        "\n",
        "                    label = np_utils.to_categorical(label, nb_classes)\n",
        "                    X_batch[i] = sub_image\n",
        "                    Y_batch[i] = label\n",
        "                \n",
        "                    \n",
        "                yield (X_batch, Y_batch)\n"
      ],
      "execution_count": null,
      "outputs": []
    },
    {
      "cell_type": "code",
      "metadata": {
        "id": "IhD2hjnmhIk8",
        "colab_type": "code",
        "colab": {
          "base_uri": "https://localhost:8080/",
          "height": 322
        },
        "outputId": "75f13ed7-612e-44f1-e506-86c829d3829b"
      },
      "source": [
        "# Test training data generator\n",
        "x_train_batch, y_train_batch = next(training_generator())\n",
        "\n",
        "# Plot a test image\n",
        "plt.imshow(x_train_batch[0])\n",
        "\n",
        "# And the corresponding one hot enconding of y\n",
        "print(y_train_batch[0])\n",
        "\n",
        "# Shape of x_train_batch\n",
        "print(x_train_batch.shape)\n",
        "\n",
        "# Shape of y_train_batch\n",
        "print(y_train_batch.shape)"
      ],
      "execution_count": null,
      "outputs": [
        {
          "output_type": "stream",
          "text": [
            "[1. 0.]\n",
            "(125, 72, 72, 3)\n",
            "(125, 2)\n"
          ],
          "name": "stdout"
        },
        {
          "output_type": "display_data",
          "data": {
            "image/png": "[encoded data removed]",
            "text/plain": [
              "<Figure size 432x288 with 1 Axes>"
            ]
          },
          "metadata": {
            "tags": [],
            "needs_background": "light"
          }
        }
      ]
    },
    {
      "cell_type": "code",
      "metadata": {
        "id": "RLDfKHnM7356",
        "colab_type": "code",
        "colab": {
          "base_uri": "https://localhost:8080/",
          "height": 53
        },
        "outputId": "0f577234-417d-462f-b5f9-bdefd08027a4"
      },
      "source": [
        "# Create validation set\n",
        "x_val_batch, y_val_batch = next(validation_generator())\n",
        "\n",
        "# Shape of x_train_batch\n",
        "print(x_val_batch.shape)\n",
        "\n",
        "# Shape of y_train_batch\n",
        "print(y_val_batch.shape)"
      ],
      "execution_count": null,
      "outputs": [
        {
          "output_type": "stream",
          "text": [
            "(8000, 72, 72, 3)\n",
            "(8000, 2)\n"
          ],
          "name": "stdout"
        }
      ]
    },
    {
      "cell_type": "markdown",
      "metadata": {
        "id": "zfMARVYapPG2",
        "colab_type": "text"
      },
      "source": [
        "# Building the Convolutional Neural Network based on Xception\n",
        "The following CNN architecture is defined with the base model from Xception. \n",
        "We first apply the convolutonal layers from the Xception model that were \n",
        "trained on ImageNet and train our dense layers. Furthermore, we can fine \n",
        "tune the parameters of top layers if that helps to improve the validation \n",
        "accuracy."
      ]
    },
    {
      "cell_type": "code",
      "metadata": {
        "id": "RRd59ExjizLO",
        "colab_type": "code",
        "colab": {
          "base_uri": "https://localhost:8080/",
          "height": 73
        },
        "outputId": "9d1d8bef-67dc-457a-b9ff-24e7085fef49"
      },
      "source": [
        "# Define the CNN model\n",
        "BATCH_SHAPE = (72, 72, 3)\n",
        "\n",
        "# Create the base model from the pre-trained model Xception\n",
        "base_model = tf.keras.applications.Xception(\n",
        "    include_top = False,\n",
        "    weights = 'imagenet',\n",
        "    input_shape = BATCH_SHAPE\n",
        ")\n",
        "\n",
        "# Freeze the base model prior to training the classifier\n",
        "base_model.trainable = False"
      ],
      "execution_count": null,
      "outputs": [
        {
          "output_type": "stream",
          "text": [
            "Downloading data from https://storage.googleapis.com/tensorflow/keras-applications/xception/xception_weights_tf_dim_ordering_tf_kernels_notop.h5\n",
            "83689472/83683744 [==============================] - 1s 0us/step\n"
          ],
          "name": "stdout"
        }
      ]
    },
    {
      "cell_type": "code",
      "metadata": {
        "id": "ecYG6zLbqUwN",
        "colab_type": "code",
        "colab": {}
      },
      "source": [
        "# Print the architecture of base model\n",
        "base_model.summary()"
      ],
      "execution_count": null,
      "outputs": []
    },
    {
      "cell_type": "code",
      "metadata": {
        "id": "TotU-0YtpVtN",
        "colab_type": "code",
        "colab": {}
      },
      "source": [
        "# Get the output of the last layer of base model\n",
        "last_output = base_model.get_layer('block14_sepconv2_act').output\n",
        "\n",
        "# Add dense layers for classification\n",
        "x = Flatten(name=\"block15_flatten\")(last_output)\n",
        "x = Dense(512, kernel_regularizer=keras.regularizers.l2(1e-6), name=\"block15_dense\")(x)\n",
        "x = LeakyReLU(alpha = 0.1, name=\"block15_act\")(x)\n",
        "x = Dropout(0.5, name=\"block15_dropout\")(x)\n",
        "# Add a final softmax layer for classification\n",
        "x = Dense(2, activation=\"softmax\", kernel_regularizer=keras.regularizers.l2(1e-6), name=\"block16_dense\")(x)"
      ],
      "execution_count": null,
      "outputs": []
    },
    {
      "cell_type": "code",
      "metadata": {
        "id": "Acgp5OTUyoaP",
        "colab_type": "code",
        "colab": {
          "base_uri": "https://localhost:8080/",
          "height": 1000
        },
        "outputId": "62e7cdba-e264-492b-da30-72e7815030bd"
      },
      "source": [
        "from tensorflow.keras import Model\n",
        "# Define the model\n",
        "model = Model(base_model.input, x)\n",
        "# Print the model architecture \n",
        "model.summary()"
      ],
      "execution_count": null,
      "outputs": [
        {
          "output_type": "stream",
          "text": [
            "Model: \"model\"\n",
            "__________________________________________________________________________________________________\n",
            "Layer (type)                    Output Shape         Param #     Connected to                     \n",
            "==================================================================================================\n",
            "input_1 (InputLayer)            [(None, 72, 72, 3)]  0                                            \n",
            "__________________________________________________________________________________________________\n",
            "block1_conv1 (Conv2D)           (None, 35, 35, 32)   864         input_1[0][0]                    \n",
            "__________________________________________________________________________________________________\n",
            "block1_conv1_bn (BatchNormaliza (None, 35, 35, 32)   128         block1_conv1[0][0]               \n",
            "__________________________________________________________________________________________________\n",
            "block1_conv1_act (Activation)   (None, 35, 35, 32)   0           block1_conv1_bn[0][0]            \n",
            "__________________________________________________________________________________________________\n",
            "block1_conv2 (Conv2D)           (None, 33, 33, 64)   18432       block1_conv1_act[0][0]           \n",
            "__________________________________________________________________________________________________\n",
            "block1_conv2_bn (BatchNormaliza (None, 33, 33, 64)   256         block1_conv2[0][0]               \n",
            "__________________________________________________________________________________________________\n",
            "block1_conv2_act (Activation)   (None, 33, 33, 64)   0           block1_conv2_bn[0][0]            \n",
            "__________________________________________________________________________________________________\n",
            "block2_sepconv1 (SeparableConv2 (None, 33, 33, 128)  8768        block1_conv2_act[0][0]           \n",
            "__________________________________________________________________________________________________\n",
            "block2_sepconv1_bn (BatchNormal (None, 33, 33, 128)  512         block2_sepconv1[0][0]            \n",
            "__________________________________________________________________________________________________\n",
            "block2_sepconv2_act (Activation (None, 33, 33, 128)  0           block2_sepconv1_bn[0][0]         \n",
            "__________________________________________________________________________________________________\n",
            "block2_sepconv2 (SeparableConv2 (None, 33, 33, 128)  17536       block2_sepconv2_act[0][0]        \n",
            "__________________________________________________________________________________________________\n",
            "block2_sepconv2_bn (BatchNormal (None, 33, 33, 128)  512         block2_sepconv2[0][0]            \n",
            "__________________________________________________________________________________________________\n",
            "conv2d (Conv2D)                 (None, 17, 17, 128)  8192        block1_conv2_act[0][0]           \n",
            "__________________________________________________________________________________________________\n",
            "block2_pool (MaxPooling2D)      (None, 17, 17, 128)  0           block2_sepconv2_bn[0][0]         \n",
            "__________________________________________________________________________________________________\n",
            "batch_normalization (BatchNorma (None, 17, 17, 128)  512         conv2d[0][0]                     \n",
            "__________________________________________________________________________________________________\n",
            "add (Add)                       (None, 17, 17, 128)  0           block2_pool[0][0]                \n",
            "                                                                 batch_normalization[0][0]        \n",
            "__________________________________________________________________________________________________\n",
            "block3_sepconv1_act (Activation (None, 17, 17, 128)  0           add[0][0]                        \n",
            "__________________________________________________________________________________________________\n",
            "block3_sepconv1 (SeparableConv2 (None, 17, 17, 256)  33920       block3_sepconv1_act[0][0]        \n",
            "__________________________________________________________________________________________________\n",
            "block3_sepconv1_bn (BatchNormal (None, 17, 17, 256)  1024        block3_sepconv1[0][0]            \n",
            "__________________________________________________________________________________________________\n",
            "block3_sepconv2_act (Activation (None, 17, 17, 256)  0           block3_sepconv1_bn[0][0]         \n",
            "__________________________________________________________________________________________________\n",
            "block3_sepconv2 (SeparableConv2 (None, 17, 17, 256)  67840       block3_sepconv2_act[0][0]        \n",
            "__________________________________________________________________________________________________\n",
            "block3_sepconv2_bn (BatchNormal (None, 17, 17, 256)  1024        block3_sepconv2[0][0]            \n",
            "__________________________________________________________________________________________________\n",
            "conv2d_1 (Conv2D)               (None, 9, 9, 256)    32768       add[0][0]                        \n",
            "__________________________________________________________________________________________________\n",
            "block3_pool (MaxPooling2D)      (None, 9, 9, 256)    0           block3_sepconv2_bn[0][0]         \n",
            "__________________________________________________________________________________________________\n",
            "batch_normalization_1 (BatchNor (None, 9, 9, 256)    1024        conv2d_1[0][0]                   \n",
            "__________________________________________________________________________________________________\n",
            "add_1 (Add)                     (None, 9, 9, 256)    0           block3_pool[0][0]                \n",
            "                                                                 batch_normalization_1[0][0]      \n",
            "__________________________________________________________________________________________________\n",
            "block4_sepconv1_act (Activation (None, 9, 9, 256)    0           add_1[0][0]                      \n",
            "__________________________________________________________________________________________________\n",
            "block4_sepconv1 (SeparableConv2 (None, 9, 9, 728)    188672      block4_sepconv1_act[0][0]        \n",
            "__________________________________________________________________________________________________\n",
            "block4_sepconv1_bn (BatchNormal (None, 9, 9, 728)    2912        block4_sepconv1[0][0]            \n",
            "__________________________________________________________________________________________________\n",
            "block4_sepconv2_act (Activation (None, 9, 9, 728)    0           block4_sepconv1_bn[0][0]         \n",
            "__________________________________________________________________________________________________\n",
            "block4_sepconv2 (SeparableConv2 (None, 9, 9, 728)    536536      block4_sepconv2_act[0][0]        \n",
            "__________________________________________________________________________________________________\n",
            "block4_sepconv2_bn (BatchNormal (None, 9, 9, 728)    2912        block4_sepconv2[0][0]            \n",
            "__________________________________________________________________________________________________\n",
            "conv2d_2 (Conv2D)               (None, 5, 5, 728)    186368      add_1[0][0]                      \n",
            "__________________________________________________________________________________________________\n",
            "block4_pool (MaxPooling2D)      (None, 5, 5, 728)    0           block4_sepconv2_bn[0][0]         \n",
            "__________________________________________________________________________________________________\n",
            "batch_normalization_2 (BatchNor (None, 5, 5, 728)    2912        conv2d_2[0][0]                   \n",
            "__________________________________________________________________________________________________\n",
            "add_2 (Add)                     (None, 5, 5, 728)    0           block4_pool[0][0]                \n",
            "                                                                 batch_normalization_2[0][0]      \n",
            "__________________________________________________________________________________________________\n",
            "block5_sepconv1_act (Activation (None, 5, 5, 728)    0           add_2[0][0]                      \n",
            "__________________________________________________________________________________________________\n",
            "block5_sepconv1 (SeparableConv2 (None, 5, 5, 728)    536536      block5_sepconv1_act[0][0]        \n",
            "__________________________________________________________________________________________________\n",
            "block5_sepconv1_bn (BatchNormal (None, 5, 5, 728)    2912        block5_sepconv1[0][0]            \n",
            "__________________________________________________________________________________________________\n",
            "block5_sepconv2_act (Activation (None, 5, 5, 728)    0           block5_sepconv1_bn[0][0]         \n",
            "__________________________________________________________________________________________________\n",
            "block5_sepconv2 (SeparableConv2 (None, 5, 5, 728)    536536      block5_sepconv2_act[0][0]        \n",
            "__________________________________________________________________________________________________\n",
            "block5_sepconv2_bn (BatchNormal (None, 5, 5, 728)    2912        block5_sepconv2[0][0]            \n",
            "__________________________________________________________________________________________________\n",
            "block5_sepconv3_act (Activation (None, 5, 5, 728)    0           block5_sepconv2_bn[0][0]         \n",
            "__________________________________________________________________________________________________\n",
            "block5_sepconv3 (SeparableConv2 (None, 5, 5, 728)    536536      block5_sepconv3_act[0][0]        \n",
            "__________________________________________________________________________________________________\n",
            "block5_sepconv3_bn (BatchNormal (None, 5, 5, 728)    2912        block5_sepconv3[0][0]            \n",
            "__________________________________________________________________________________________________\n",
            "add_3 (Add)                     (None, 5, 5, 728)    0           block5_sepconv3_bn[0][0]         \n",
            "                                                                 add_2[0][0]                      \n",
            "__________________________________________________________________________________________________\n",
            "block6_sepconv1_act (Activation (None, 5, 5, 728)    0           add_3[0][0]                      \n",
            "__________________________________________________________________________________________________\n",
            "block6_sepconv1 (SeparableConv2 (None, 5, 5, 728)    536536      block6_sepconv1_act[0][0]        \n",
            "__________________________________________________________________________________________________\n",
            "block6_sepconv1_bn (BatchNormal (None, 5, 5, 728)    2912        block6_sepconv1[0][0]            \n",
            "__________________________________________________________________________________________________\n",
            "block6_sepconv2_act (Activation (None, 5, 5, 728)    0           block6_sepconv1_bn[0][0]         \n",
            "__________________________________________________________________________________________________\n",
            "block6_sepconv2 (SeparableConv2 (None, 5, 5, 728)    536536      block6_sepconv2_act[0][0]        \n",
            "__________________________________________________________________________________________________\n",
            "block6_sepconv2_bn (BatchNormal (None, 5, 5, 728)    2912        block6_sepconv2[0][0]            \n",
            "__________________________________________________________________________________________________\n",
            "block6_sepconv3_act (Activation (None, 5, 5, 728)    0           block6_sepconv2_bn[0][0]         \n",
            "__________________________________________________________________________________________________\n",
            "block6_sepconv3 (SeparableConv2 (None, 5, 5, 728)    536536      block6_sepconv3_act[0][0]        \n",
            "__________________________________________________________________________________________________\n",
            "block6_sepconv3_bn (BatchNormal (None, 5, 5, 728)    2912        block6_sepconv3[0][0]            \n",
            "__________________________________________________________________________________________________\n",
            "add_4 (Add)                     (None, 5, 5, 728)    0           block6_sepconv3_bn[0][0]         \n",
            "                                                                 add_3[0][0]                      \n",
            "__________________________________________________________________________________________________\n",
            "block7_sepconv1_act (Activation (None, 5, 5, 728)    0           add_4[0][0]                      \n",
            "__________________________________________________________________________________________________\n",
            "block7_sepconv1 (SeparableConv2 (None, 5, 5, 728)    536536      block7_sepconv1_act[0][0]        \n",
            "__________________________________________________________________________________________________\n",
            "block7_sepconv1_bn (BatchNormal (None, 5, 5, 728)    2912        block7_sepconv1[0][0]            \n",
            "__________________________________________________________________________________________________\n",
            "block7_sepconv2_act (Activation (None, 5, 5, 728)    0           block7_sepconv1_bn[0][0]         \n",
            "__________________________________________________________________________________________________\n",
            "block7_sepconv2 (SeparableConv2 (None, 5, 5, 728)    536536      block7_sepconv2_act[0][0]        \n",
            "__________________________________________________________________________________________________\n",
            "block7_sepconv2_bn (BatchNormal (None, 5, 5, 728)    2912        block7_sepconv2[0][0]            \n",
            "__________________________________________________________________________________________________\n",
            "block7_sepconv3_act (Activation (None, 5, 5, 728)    0           block7_sepconv2_bn[0][0]         \n",
            "__________________________________________________________________________________________________\n",
            "block7_sepconv3 (SeparableConv2 (None, 5, 5, 728)    536536      block7_sepconv3_act[0][0]        \n",
            "__________________________________________________________________________________________________\n",
            "block7_sepconv3_bn (BatchNormal (None, 5, 5, 728)    2912        block7_sepconv3[0][0]            \n",
            "__________________________________________________________________________________________________\n",
            "add_5 (Add)                     (None, 5, 5, 728)    0           block7_sepconv3_bn[0][0]         \n",
            "                                                                 add_4[0][0]                      \n",
            "__________________________________________________________________________________________________\n",
            "block8_sepconv1_act (Activation (None, 5, 5, 728)    0           add_5[0][0]                      \n",
            "__________________________________________________________________________________________________\n",
            "block8_sepconv1 (SeparableConv2 (None, 5, 5, 728)    536536      block8_sepconv1_act[0][0]        \n",
            "__________________________________________________________________________________________________\n",
            "block8_sepconv1_bn (BatchNormal (None, 5, 5, 728)    2912        block8_sepconv1[0][0]            \n",
            "__________________________________________________________________________________________________\n",
            "block8_sepconv2_act (Activation (None, 5, 5, 728)    0           block8_sepconv1_bn[0][0]         \n",
            "__________________________________________________________________________________________________\n",
            "block8_sepconv2 (SeparableConv2 (None, 5, 5, 728)    536536      block8_sepconv2_act[0][0]        \n",
            "__________________________________________________________________________________________________\n",
            "block8_sepconv2_bn (BatchNormal (None, 5, 5, 728)    2912        block8_sepconv2[0][0]            \n",
            "__________________________________________________________________________________________________\n",
            "block8_sepconv3_act (Activation (None, 5, 5, 728)    0           block8_sepconv2_bn[0][0]         \n",
            "__________________________________________________________________________________________________\n",
            "block8_sepconv3 (SeparableConv2 (None, 5, 5, 728)    536536      block8_sepconv3_act[0][0]        \n",
            "__________________________________________________________________________________________________\n",
            "block8_sepconv3_bn (BatchNormal (None, 5, 5, 728)    2912        block8_sepconv3[0][0]            \n",
            "__________________________________________________________________________________________________\n",
            "add_6 (Add)                     (None, 5, 5, 728)    0           block8_sepconv3_bn[0][0]         \n",
            "                                                                 add_5[0][0]                      \n",
            "__________________________________________________________________________________________________\n",
            "block9_sepconv1_act (Activation (None, 5, 5, 728)    0           add_6[0][0]                      \n",
            "__________________________________________________________________________________________________\n",
            "block9_sepconv1 (SeparableConv2 (None, 5, 5, 728)    536536      block9_sepconv1_act[0][0]        \n",
            "__________________________________________________________________________________________________\n",
            "block9_sepconv1_bn (BatchNormal (None, 5, 5, 728)    2912        block9_sepconv1[0][0]            \n",
            "__________________________________________________________________________________________________\n",
            "block9_sepconv2_act (Activation (None, 5, 5, 728)    0           block9_sepconv1_bn[0][0]         \n",
            "__________________________________________________________________________________________________\n",
            "block9_sepconv2 (SeparableConv2 (None, 5, 5, 728)    536536      block9_sepconv2_act[0][0]        \n",
            "__________________________________________________________________________________________________\n",
            "block9_sepconv2_bn (BatchNormal (None, 5, 5, 728)    2912        block9_sepconv2[0][0]            \n",
            "__________________________________________________________________________________________________\n",
            "block9_sepconv3_act (Activation (None, 5, 5, 728)    0           block9_sepconv2_bn[0][0]         \n",
            "__________________________________________________________________________________________________\n",
            "block9_sepconv3 (SeparableConv2 (None, 5, 5, 728)    536536      block9_sepconv3_act[0][0]        \n",
            "__________________________________________________________________________________________________\n",
            "block9_sepconv3_bn (BatchNormal (None, 5, 5, 728)    2912        block9_sepconv3[0][0]            \n",
            "__________________________________________________________________________________________________\n",
            "add_7 (Add)                     (None, 5, 5, 728)    0           block9_sepconv3_bn[0][0]         \n",
            "                                                                 add_6[0][0]                      \n",
            "__________________________________________________________________________________________________\n",
            "block10_sepconv1_act (Activatio (None, 5, 5, 728)    0           add_7[0][0]                      \n",
            "__________________________________________________________________________________________________\n",
            "block10_sepconv1 (SeparableConv (None, 5, 5, 728)    536536      block10_sepconv1_act[0][0]       \n",
            "__________________________________________________________________________________________________\n",
            "block10_sepconv1_bn (BatchNorma (None, 5, 5, 728)    2912        block10_sepconv1[0][0]           \n",
            "__________________________________________________________________________________________________\n",
            "block10_sepconv2_act (Activatio (None, 5, 5, 728)    0           block10_sepconv1_bn[0][0]        \n",
            "__________________________________________________________________________________________________\n",
            "block10_sepconv2 (SeparableConv (None, 5, 5, 728)    536536      block10_sepconv2_act[0][0]       \n",
            "__________________________________________________________________________________________________\n",
            "block10_sepconv2_bn (BatchNorma (None, 5, 5, 728)    2912        block10_sepconv2[0][0]           \n",
            "__________________________________________________________________________________________________\n",
            "block10_sepconv3_act (Activatio (None, 5, 5, 728)    0           block10_sepconv2_bn[0][0]        \n",
            "__________________________________________________________________________________________________\n",
            "block10_sepconv3 (SeparableConv (None, 5, 5, 728)    536536      block10_sepconv3_act[0][0]       \n",
            "__________________________________________________________________________________________________\n",
            "block10_sepconv3_bn (BatchNorma (None, 5, 5, 728)    2912        block10_sepconv3[0][0]           \n",
            "__________________________________________________________________________________________________\n",
            "add_8 (Add)                     (None, 5, 5, 728)    0           block10_sepconv3_bn[0][0]        \n",
            "                                                                 add_7[0][0]                      \n",
            "__________________________________________________________________________________________________\n",
            "block11_sepconv1_act (Activatio (None, 5, 5, 728)    0           add_8[0][0]                      \n",
            "__________________________________________________________________________________________________\n",
            "block11_sepconv1 (SeparableConv (None, 5, 5, 728)    536536      block11_sepconv1_act[0][0]       \n",
            "__________________________________________________________________________________________________\n",
            "block11_sepconv1_bn (BatchNorma (None, 5, 5, 728)    2912        block11_sepconv1[0][0]           \n",
            "__________________________________________________________________________________________________\n",
            "block11_sepconv2_act (Activatio (None, 5, 5, 728)    0           block11_sepconv1_bn[0][0]        \n",
            "__________________________________________________________________________________________________\n",
            "block11_sepconv2 (SeparableConv (None, 5, 5, 728)    536536      block11_sepconv2_act[0][0]       \n",
            "__________________________________________________________________________________________________\n",
            "block11_sepconv2_bn (BatchNorma (None, 5, 5, 728)    2912        block11_sepconv2[0][0]           \n",
            "__________________________________________________________________________________________________\n",
            "block11_sepconv3_act (Activatio (None, 5, 5, 728)    0           block11_sepconv2_bn[0][0]        \n",
            "__________________________________________________________________________________________________\n",
            "block11_sepconv3 (SeparableConv (None, 5, 5, 728)    536536      block11_sepconv3_act[0][0]       \n",
            "__________________________________________________________________________________________________\n",
            "block11_sepconv3_bn (BatchNorma (None, 5, 5, 728)    2912        block11_sepconv3[0][0]           \n",
            "__________________________________________________________________________________________________\n",
            "add_9 (Add)                     (None, 5, 5, 728)    0           block11_sepconv3_bn[0][0]        \n",
            "                                                                 add_8[0][0]                      \n",
            "__________________________________________________________________________________________________\n",
            "block12_sepconv1_act (Activatio (None, 5, 5, 728)    0           add_9[0][0]                      \n",
            "__________________________________________________________________________________________________\n",
            "block12_sepconv1 (SeparableConv (None, 5, 5, 728)    536536      block12_sepconv1_act[0][0]       \n",
            "__________________________________________________________________________________________________\n",
            "block12_sepconv1_bn (BatchNorma (None, 5, 5, 728)    2912        block12_sepconv1[0][0]           \n",
            "__________________________________________________________________________________________________\n",
            "block12_sepconv2_act (Activatio (None, 5, 5, 728)    0           block12_sepconv1_bn[0][0]        \n",
            "__________________________________________________________________________________________________\n",
            "block12_sepconv2 (SeparableConv (None, 5, 5, 728)    536536      block12_sepconv2_act[0][0]       \n",
            "__________________________________________________________________________________________________\n",
            "block12_sepconv2_bn (BatchNorma (None, 5, 5, 728)    2912        block12_sepconv2[0][0]           \n",
            "__________________________________________________________________________________________________\n",
            "block12_sepconv3_act (Activatio (None, 5, 5, 728)    0           block12_sepconv2_bn[0][0]        \n",
            "__________________________________________________________________________________________________\n",
            "block12_sepconv3 (SeparableConv (None, 5, 5, 728)    536536      block12_sepconv3_act[0][0]       \n",
            "__________________________________________________________________________________________________\n",
            "block12_sepconv3_bn (BatchNorma (None, 5, 5, 728)    2912        block12_sepconv3[0][0]           \n",
            "__________________________________________________________________________________________________\n",
            "add_10 (Add)                    (None, 5, 5, 728)    0           block12_sepconv3_bn[0][0]        \n",
            "                                                                 add_9[0][0]                      \n",
            "__________________________________________________________________________________________________\n",
            "block13_sepconv1_act (Activatio (None, 5, 5, 728)    0           add_10[0][0]                     \n",
            "__________________________________________________________________________________________________\n",
            "block13_sepconv1 (SeparableConv (None, 5, 5, 728)    536536      block13_sepconv1_act[0][0]       \n",
            "__________________________________________________________________________________________________\n",
            "block13_sepconv1_bn (BatchNorma (None, 5, 5, 728)    2912        block13_sepconv1[0][0]           \n",
            "__________________________________________________________________________________________________\n",
            "block13_sepconv2_act (Activatio (None, 5, 5, 728)    0           block13_sepconv1_bn[0][0]        \n",
            "__________________________________________________________________________________________________\n",
            "block13_sepconv2 (SeparableConv (None, 5, 5, 1024)   752024      block13_sepconv2_act[0][0]       \n",
            "__________________________________________________________________________________________________\n",
            "block13_sepconv2_bn (BatchNorma (None, 5, 5, 1024)   4096        block13_sepconv2[0][0]           \n",
            "__________________________________________________________________________________________________\n",
            "conv2d_3 (Conv2D)               (None, 3, 3, 1024)   745472      add_10[0][0]                     \n",
            "__________________________________________________________________________________________________\n",
            "block13_pool (MaxPooling2D)     (None, 3, 3, 1024)   0           block13_sepconv2_bn[0][0]        \n",
            "__________________________________________________________________________________________________\n",
            "batch_normalization_3 (BatchNor (None, 3, 3, 1024)   4096        conv2d_3[0][0]                   \n",
            "__________________________________________________________________________________________________\n",
            "add_11 (Add)                    (None, 3, 3, 1024)   0           block13_pool[0][0]               \n",
            "                                                                 batch_normalization_3[0][0]      \n",
            "__________________________________________________________________________________________________\n",
            "block14_sepconv1 (SeparableConv (None, 3, 3, 1536)   1582080     add_11[0][0]                     \n",
            "__________________________________________________________________________________________________\n",
            "block14_sepconv1_bn (BatchNorma (None, 3, 3, 1536)   6144        block14_sepconv1[0][0]           \n",
            "__________________________________________________________________________________________________\n",
            "block14_sepconv1_act (Activatio (None, 3, 3, 1536)   0           block14_sepconv1_bn[0][0]        \n",
            "__________________________________________________________________________________________________\n",
            "block14_sepconv2 (SeparableConv (None, 3, 3, 2048)   3159552     block14_sepconv1_act[0][0]       \n",
            "__________________________________________________________________________________________________\n",
            "block14_sepconv2_bn (BatchNorma (None, 3, 3, 2048)   8192        block14_sepconv2[0][0]           \n",
            "__________________________________________________________________________________________________\n",
            "block14_sepconv2_act (Activatio (None, 3, 3, 2048)   0           block14_sepconv2_bn[0][0]        \n",
            "__________________________________________________________________________________________________\n",
            "block15_flatten (Flatten)       (None, 18432)        0           block14_sepconv2_act[0][0]       \n",
            "__________________________________________________________________________________________________\n",
            "block15_dense (Dense)           (None, 512)          9437696     block15_flatten[0][0]            \n",
            "__________________________________________________________________________________________________\n",
            "block15_act (LeakyReLU)         (None, 512)          0           block15_dense[0][0]              \n",
            "__________________________________________________________________________________________________\n",
            "block15_dropout (Dropout)       (None, 512)          0           block15_act[0][0]                \n",
            "__________________________________________________________________________________________________\n",
            "block16_dense (Dense)           (None, 2)            1026        block15_dropout[0][0]            \n",
            "==================================================================================================\n",
            "Total params: 30,300,202\n",
            "Trainable params: 9,438,722\n",
            "Non-trainable params: 20,861,480\n",
            "__________________________________________________________________________________________________\n"
          ],
          "name": "stdout"
        }
      ]
    },
    {
      "cell_type": "markdown",
      "metadata": {
        "id": "Avstg37IrPjl",
        "colab_type": "text"
      },
      "source": [
        "# Training the model\n",
        "First we have to compile the model and define the callback functions, which are being called each epoch. After that, it is finally time for training. After the training is finished the weights are saved in the current working directory for later usage."
      ]
    },
    {
      "cell_type": "code",
      "metadata": {
        "colab_type": "code",
        "id": "8zz1aJiM6RSV",
        "colab": {}
      },
      "source": [
        "# Compile the model\n",
        "base_learning_rate = 0.0001\n",
        "model.compile(Adam(lr=base_learning_rate), loss=\"categorical_crossentropy\", metrics=[\"accuracy\"])"
      ],
      "execution_count": null,
      "outputs": []
    },
    {
      "cell_type": "code",
      "metadata": {
        "id": "9ILCX89KVlY2",
        "colab_type": "code",
        "colab": {
          "base_uri": "https://localhost:8080/",
          "height": 55
        },
        "outputId": "7fb09367-5e35-429f-e4a9-00035a81dbf8"
      },
      "source": [
        "# Define callback functions (reduce the learning rate if accuracy doesn't change that much and early stopping, when accuracy doesn't change anymore.)\n",
        "reduce_learningrate = ReduceLROnPlateau(monitor='accuracy', factor=0.5, patience=5, verbose=1, mode='auto', min_delta=0.0001, cooldown=0, min_lr=0)\n",
        "early_stopping = EarlyStopping(monitor='val_accuracy', min_delta=0.0002, patience=10, verbose=1, mode='auto')\n",
        "checkpoint = ModelCheckpoint(\"weights/weights.{epoch:02d}-{accuracy:.4f}.h5\", monitor='accuracy', save_weights_only=True, period=5)\n",
        "initial_epochs = 30"
      ],
      "execution_count": null,
      "outputs": [
        {
          "output_type": "stream",
          "text": [
            "WARNING:tensorflow:`period` argument is deprecated. Please use `save_freq` to specify the frequency in number of batches seen.\n"
          ],
          "name": "stdout"
        }
      ]
    },
    {
      "cell_type": "code",
      "metadata": {
        "id": "O-qGnmplHfyb",
        "colab_type": "code",
        "cellView": "both",
        "colab": {
          "base_uri": "https://localhost:8080/",
          "height": 1000
        },
        "outputId": "19824eb4-4bd7-4b03-ceda-c935750a440c"
      },
      "source": [
        "# Train model with validation data\n",
        "history = model.fit(training_generator(), validation_data=(x_val_batch, y_val_batch), steps_per_epoch=1500, epochs=initial_epochs, callbacks=[reduce_learningrate, early_stopping, checkpoint])\n",
        "model.save(\"model_Xception.h5\", overwrite=True)"
      ],
      "execution_count": null,
      "outputs": [
        {
          "output_type": "stream",
          "text": [
            "Epoch 1/30\n",
            "1500/1500 [==============================] - 75s 50ms/step - loss: 0.4300 - accuracy: 0.8088 - val_loss: 0.3444 - val_accuracy: 0.8501 - lr: 1.0000e-04\n",
            "Epoch 2/30\n",
            "1500/1500 [==============================] - 74s 49ms/step - loss: 0.3866 - accuracy: 0.8283 - val_loss: 0.3317 - val_accuracy: 0.8551 - lr: 1.0000e-04\n",
            "Epoch 3/30\n",
            "1500/1500 [==============================] - 75s 50ms/step - loss: 0.3689 - accuracy: 0.8356 - val_loss: 0.3230 - val_accuracy: 0.8604 - lr: 1.0000e-04\n",
            "Epoch 4/30\n",
            "1500/1500 [==============================] - 74s 49ms/step - loss: 0.3544 - accuracy: 0.8419 - val_loss: 0.3229 - val_accuracy: 0.8572 - lr: 1.0000e-04\n",
            "Epoch 5/30\n",
            "1500/1500 [==============================] - 74s 50ms/step - loss: 0.3469 - accuracy: 0.8462 - val_loss: 0.3178 - val_accuracy: 0.8612 - lr: 1.0000e-04\n",
            "Epoch 6/30\n",
            "1500/1500 [==============================] - 74s 50ms/step - loss: 0.3368 - accuracy: 0.8499 - val_loss: 0.3229 - val_accuracy: 0.8579 - lr: 1.0000e-04\n",
            "Epoch 7/30\n",
            "1500/1500 [==============================] - 75s 50ms/step - loss: 0.3331 - accuracy: 0.8518 - val_loss: 0.3237 - val_accuracy: 0.8581 - lr: 1.0000e-04\n",
            "Epoch 8/30\n",
            "1500/1500 [==============================] - 75s 50ms/step - loss: 0.3292 - accuracy: 0.8549 - val_loss: 0.3084 - val_accuracy: 0.8685 - lr: 1.0000e-04\n",
            "Epoch 9/30\n",
            "1500/1500 [==============================] - 74s 50ms/step - loss: 0.3251 - accuracy: 0.8564 - val_loss: 0.3117 - val_accuracy: 0.8643 - lr: 1.0000e-04\n",
            "Epoch 10/30\n",
            "1500/1500 [==============================] - 75s 50ms/step - loss: 0.3196 - accuracy: 0.8590 - val_loss: 0.3062 - val_accuracy: 0.8706 - lr: 1.0000e-04\n",
            "Epoch 11/30\n",
            "1500/1500 [==============================] - 75s 50ms/step - loss: 0.3170 - accuracy: 0.8597 - val_loss: 0.3030 - val_accuracy: 0.8716 - lr: 1.0000e-04\n",
            "Epoch 12/30\n",
            "1500/1500 [==============================] - 74s 49ms/step - loss: 0.3159 - accuracy: 0.8604 - val_loss: 0.2950 - val_accuracy: 0.8756 - lr: 1.0000e-04\n",
            "Epoch 13/30\n",
            "1500/1500 [==============================] - 74s 49ms/step - loss: 0.3133 - accuracy: 0.8619 - val_loss: 0.2973 - val_accuracy: 0.8751 - lr: 1.0000e-04\n",
            "Epoch 14/30\n",
            "1500/1500 [==============================] - 74s 49ms/step - loss: 0.3122 - accuracy: 0.8628 - val_loss: 0.3022 - val_accuracy: 0.8674 - lr: 1.0000e-04\n",
            "Epoch 15/30\n",
            "1500/1500 [==============================] - 75s 50ms/step - loss: 0.3084 - accuracy: 0.8648 - val_loss: 0.3038 - val_accuracy: 0.8699 - lr: 1.0000e-04\n",
            "Epoch 16/30\n",
            "1500/1500 [==============================] - 74s 49ms/step - loss: 0.3056 - accuracy: 0.8657 - val_loss: 0.2993 - val_accuracy: 0.8750 - lr: 1.0000e-04\n",
            "Epoch 17/30\n",
            "1500/1500 [==============================] - 75s 50ms/step - loss: 0.3047 - accuracy: 0.8657 - val_loss: 0.2964 - val_accuracy: 0.8737 - lr: 1.0000e-04\n",
            "Epoch 18/30\n",
            "1500/1500 [==============================] - 74s 49ms/step - loss: 0.3007 - accuracy: 0.8688 - val_loss: 0.2973 - val_accuracy: 0.8724 - lr: 1.0000e-04\n",
            "Epoch 19/30\n",
            "1500/1500 [==============================] - 74s 50ms/step - loss: 0.3014 - accuracy: 0.8681 - val_loss: 0.2952 - val_accuracy: 0.8736 - lr: 1.0000e-04\n",
            "Epoch 20/30\n",
            "1500/1500 [==============================] - 75s 50ms/step - loss: 0.2981 - accuracy: 0.8686 - val_loss: 0.2997 - val_accuracy: 0.8729 - lr: 1.0000e-04\n",
            "Epoch 21/30\n",
            "1500/1500 [==============================] - 75s 50ms/step - loss: 0.3009 - accuracy: 0.8684 - val_loss: 0.2895 - val_accuracy: 0.8783 - lr: 1.0000e-04\n",
            "Epoch 22/30\n",
            "1500/1500 [==============================] - 75s 50ms/step - loss: 0.2957 - accuracy: 0.8707 - val_loss: 0.3197 - val_accuracy: 0.8590 - lr: 1.0000e-04\n",
            "Epoch 23/30\n",
            "1500/1500 [==============================] - 75s 50ms/step - loss: 0.2950 - accuracy: 0.8712 - val_loss: 0.2853 - val_accuracy: 0.8789 - lr: 1.0000e-04\n",
            "Epoch 24/30\n",
            "1500/1500 [==============================] - 75s 50ms/step - loss: 0.2950 - accuracy: 0.8715 - val_loss: 0.2797 - val_accuracy: 0.8823 - lr: 1.0000e-04\n",
            "Epoch 25/30\n",
            "1500/1500 [==============================] - 75s 50ms/step - loss: 0.2934 - accuracy: 0.8723 - val_loss: 0.2946 - val_accuracy: 0.8736 - lr: 1.0000e-04\n",
            "Epoch 26/30\n",
            "1500/1500 [==============================] - 75s 50ms/step - loss: 0.2926 - accuracy: 0.8724 - val_loss: 0.2895 - val_accuracy: 0.8767 - lr: 1.0000e-04\n",
            "Epoch 27/30\n",
            "1500/1500 [==============================] - 74s 50ms/step - loss: 0.2919 - accuracy: 0.8726 - val_loss: 0.2845 - val_accuracy: 0.8789 - lr: 1.0000e-04\n",
            "Epoch 28/30\n",
            "1500/1500 [==============================] - 75s 50ms/step - loss: 0.2898 - accuracy: 0.8737 - val_loss: 0.2923 - val_accuracy: 0.8771 - lr: 1.0000e-04\n",
            "Epoch 29/30\n",
            "1500/1500 [==============================] - 75s 50ms/step - loss: 0.2876 - accuracy: 0.8753 - val_loss: 0.2919 - val_accuracy: 0.8748 - lr: 1.0000e-04\n",
            "Epoch 30/30\n",
            "1500/1500 [==============================] - 75s 50ms/step - loss: 0.2876 - accuracy: 0.8755 - val_loss: 0.2901 - val_accuracy: 0.8777 - lr: 1.0000e-04\n"
          ],
          "name": "stdout"
        }
      ]
    },
    {
      "cell_type": "markdown",
      "metadata": {
        "id": "5Iheudq9VWAU",
        "colab_type": "text"
      },
      "source": [
        "# Fine tuning\n",
        "Fine tune the parameters of top layers of the base model."
      ]
    },
    {
      "cell_type": "code",
      "metadata": {
        "id": "HriLLgYvVzNk",
        "colab_type": "code",
        "colab": {
          "base_uri": "https://localhost:8080/",
          "height": 35
        },
        "outputId": "ea5ea674-8840-4779-bf73-c205cba675c7"
      },
      "source": [
        "# Set the layers of base model as trainable\n",
        "base_model.trainable = True\n",
        "\n",
        "# Print the number of layers in base model\n",
        "print(\"Number of layers in the base model: \", len(base_model.layers))"
      ],
      "execution_count": null,
      "outputs": [
        {
          "output_type": "stream",
          "text": [
            "Number of layers in the base model:  132\n"
          ],
          "name": "stdout"
        }
      ]
    },
    {
      "cell_type": "code",
      "metadata": {
        "id": "p-4r0ATlIxyQ",
        "colab_type": "code",
        "colab": {
          "base_uri": "https://localhost:8080/",
          "height": 35
        },
        "outputId": "53d919d6-6731-4403-cd95-579d5764cfac"
      },
      "source": [
        "print(len(model.layers))"
      ],
      "execution_count": null,
      "outputs": [
        {
          "output_type": "stream",
          "text": [
            "137\n"
          ],
          "name": "stdout"
        }
      ]
    },
    {
      "cell_type": "code",
      "metadata": {
        "id": "Jf8viQzWXCEj",
        "colab_type": "code",
        "colab": {}
      },
      "source": [
        "# Fine-tune from this layer onwards\n",
        "fine_tune_at = 90\n",
        "\n",
        "# Freeze all the layers before the `fine_tune_at` layer\n",
        "for layer in base_model.layers[:fine_tune_at]:\n",
        "  layer.trainable =  False"
      ],
      "execution_count": null,
      "outputs": []
    },
    {
      "cell_type": "code",
      "metadata": {
        "id": "MAL6p3f8H0P5",
        "colab_type": "code",
        "colab": {}
      },
      "source": [
        "# load the model from the latest checkpoint if the training was interrupted\n",
        "# Skip this block if the training was carried for the first time\n",
        "model.load_weights(\"weights/weights.54-0.9566.h5\")"
      ],
      "execution_count": null,
      "outputs": []
    },
    {
      "cell_type": "code",
      "metadata": {
        "id": "mmSM6DMXZXya",
        "colab_type": "code",
        "colab": {
          "base_uri": "https://localhost:8080/",
          "height": 703
        },
        "outputId": "fc1da5e8-8c4f-451a-b167-fec26702276f"
      },
      "source": [
        "# Compile the model with a lower learning rate\n",
        "model.compile(Adam(lr=base_learning_rate/10), loss=\"categorical_crossentropy\", metrics=[\"accuracy\"])\n",
        "\n",
        "# Keep training the model\n",
        "fine_tune_epochs = 90\n",
        "total_epochs = initial_epochs + fine_tune_epochs\n",
        "\n",
        "# Set a new early stopping condition \n",
        "#early_stopping_fine = EarlyStopping(monitor='val_accuracy', min_delta=0.0002, patience=10, verbose=1, mode='auto')\n",
        "\n",
        "# Train model with validation data\n",
        "history_fine = model.fit(training_generator(), \n",
        "            validation_data=(x_val_batch, y_val_batch), \n",
        "            steps_per_epoch=1500, \n",
        "            epochs=total_epochs, \n",
        "            #initial_epoch=history.epoch[-1], \n",
        "            initial_epoch=54,\n",
        "            callbacks=[reduce_learningrate, early_stopping, checkpoint])\n",
        "\n",
        "# Save the model\n",
        "model.save(\"model_Xception_tuned.h5\", overwrite=True)"
      ],
      "execution_count": null,
      "outputs": [
        {
          "output_type": "stream",
          "text": [
            "Epoch 55/120\n",
            "1500/1500 [==============================] - 115s 76ms/step - loss: 0.1082 - accuracy: 0.9566 - val_loss: 0.2427 - val_accuracy: 0.9115 - lr: 1.0000e-05\n",
            "Epoch 56/120\n",
            "1500/1500 [==============================] - 114s 76ms/step - loss: 0.1055 - accuracy: 0.9587 - val_loss: 0.2306 - val_accuracy: 0.9154 - lr: 1.0000e-05\n",
            "Epoch 57/120\n",
            "1500/1500 [==============================] - 114s 76ms/step - loss: 0.1052 - accuracy: 0.9585 - val_loss: 0.2333 - val_accuracy: 0.9169 - lr: 1.0000e-05\n",
            "Epoch 58/120\n",
            "1500/1500 [==============================] - 114s 76ms/step - loss: 0.1005 - accuracy: 0.9601 - val_loss: 0.2328 - val_accuracy: 0.9169 - lr: 1.0000e-05\n",
            "Epoch 59/120\n",
            "1500/1500 [==============================] - 115s 77ms/step - loss: 0.0991 - accuracy: 0.9611 - val_loss: 0.2331 - val_accuracy: 0.9215 - lr: 1.0000e-05\n",
            "Epoch 60/120\n",
            "1500/1500 [==============================] - 114s 76ms/step - loss: 0.1002 - accuracy: 0.9598 - val_loss: 0.2350 - val_accuracy: 0.9180 - lr: 1.0000e-05\n",
            "Epoch 61/120\n",
            "1500/1500 [==============================] - 114s 76ms/step - loss: 0.0968 - accuracy: 0.9617 - val_loss: 0.2421 - val_accuracy: 0.9183 - lr: 1.0000e-05\n",
            "Epoch 62/120\n",
            "1500/1500 [==============================] - 114s 76ms/step - loss: 0.0951 - accuracy: 0.9625 - val_loss: 0.2413 - val_accuracy: 0.9226 - lr: 1.0000e-05\n",
            "Epoch 63/120\n",
            "1500/1500 [==============================] - 114s 76ms/step - loss: 0.0931 - accuracy: 0.9633 - val_loss: 0.2409 - val_accuracy: 0.9189 - lr: 1.0000e-05\n",
            "Epoch 64/120\n",
            "1500/1500 [==============================] - 115s 76ms/step - loss: 0.0922 - accuracy: 0.9632 - val_loss: 0.2439 - val_accuracy: 0.9168 - lr: 1.0000e-05\n",
            "Epoch 65/120\n",
            "1500/1500 [==============================] - 114s 76ms/step - loss: 0.0922 - accuracy: 0.9636 - val_loss: 0.2454 - val_accuracy: 0.9166 - lr: 1.0000e-05\n",
            "Epoch 66/120\n",
            "1500/1500 [==============================] - 114s 76ms/step - loss: 0.0903 - accuracy: 0.9645 - val_loss: 0.2417 - val_accuracy: 0.9176 - lr: 1.0000e-05\n",
            "Epoch 67/120\n",
            "1500/1500 [==============================] - 114s 76ms/step - loss: 0.0884 - accuracy: 0.9653 - val_loss: 0.2407 - val_accuracy: 0.9197 - lr: 1.0000e-05\n",
            "Epoch 68/120\n",
            "1500/1500 [==============================] - 114s 76ms/step - loss: 0.0862 - accuracy: 0.9666 - val_loss: 0.2428 - val_accuracy: 0.9202 - lr: 1.0000e-05\n",
            "Epoch 69/120\n",
            "1500/1500 [==============================] - 115s 76ms/step - loss: 0.0851 - accuracy: 0.9663 - val_loss: 0.2390 - val_accuracy: 0.9190 - lr: 1.0000e-05\n",
            "Epoch 70/120\n",
            "1500/1500 [==============================] - 114s 76ms/step - loss: 0.0849 - accuracy: 0.9669 - val_loss: 0.2387 - val_accuracy: 0.9205 - lr: 1.0000e-05\n",
            "Epoch 71/120\n",
            "1500/1500 [==============================] - 114s 76ms/step - loss: 0.0842 - accuracy: 0.9669 - val_loss: 0.2368 - val_accuracy: 0.9201 - lr: 1.0000e-05\n",
            "Epoch 72/120\n",
            "1500/1500 [==============================] - 114s 76ms/step - loss: 0.0827 - accuracy: 0.9677 - val_loss: 0.2383 - val_accuracy: 0.9193 - lr: 1.0000e-05\n",
            "Epoch 00072: early stopping\n"
          ],
          "name": "stdout"
        }
      ]
    },
    {
      "cell_type": "markdown",
      "metadata": {
        "id": "imexs5VOrqqG",
        "colab_type": "text"
      },
      "source": [
        "# Training Visualization\n",
        "By looking at the model accuracy and loss plot of training and validation data, one can see, if the model is overfitting or underfitting and when it is a good time to stop training. Besides, the improvements by fine tunning parameters can be observed."
      ]
    },
    {
      "cell_type": "code",
      "metadata": {
        "id": "8d_ypsb6ArsY",
        "colab_type": "code",
        "colab": {}
      },
      "source": [
        "# Plot training & validation accuracy values before fine tuning\n",
        "acc = history.history['accuracy']\n",
        "val_acc = history.history['val_accuracy']\n",
        "\n",
        "loss = history.history['loss']\n",
        "val_loss = history.history['val_loss']\n",
        "\n",
        "plt.figure(figsize=(8, 8))\n",
        "plt.subplot(2, 1, 1)\n",
        "plt.plot(acc, label='Training Accuracy')\n",
        "plt.plot(val_acc, label='Validation Accuracy')\n",
        "plt.legend(loc='lower right')\n",
        "plt.ylabel('Accuracy')\n",
        "plt.ylim([min(plt.ylim()),1])\n",
        "plt.title('Training and Validation Accuracy')\n",
        "\n",
        "plt.subplot(2, 1, 2)\n",
        "plt.plot(loss, label='Training Loss')\n",
        "plt.plot(val_loss, label='Validation Loss')\n",
        "plt.legend(loc='upper right')\n",
        "plt.ylabel('Cross Entropy')\n",
        "plt.ylim([0,1.0])\n",
        "plt.title('Training and Validation Loss')\n",
        "plt.xlabel('epoch')\n",
        "plt.show()"
      ],
      "execution_count": null,
      "outputs": []
    },
    {
      "cell_type": "code",
      "metadata": {
        "id": "D6EICXwokfsF",
        "colab_type": "code",
        "colab": {}
      },
      "source": [
        "# Plot the training and validation accuracy after fine tunning\n",
        "acc += history_fine.history['accuracy']\n",
        "val_acc += history_fine.history['val_accuracy']\n",
        "\n",
        "loss += history_fine.history['loss']\n",
        "val_loss += history_fine.history['val_loss']\n",
        "\n",
        "# Plot the figure\n",
        "plt.figure(figsize=(8, 8))\n",
        "plt.subplot(2, 1, 1)\n",
        "plt.plot(acc, label='Training Accuracy')\n",
        "plt.plot(val_acc, label='Validation Accuracy')\n",
        "plt.ylim([0.8, 1])\n",
        "plt.plot([initial_epochs-1,initial_epochs-1],\n",
        "          plt.ylim(), label='Start Fine Tuning')\n",
        "plt.legend(loc='lower right')\n",
        "plt.title('Training and Validation Accuracy')\n",
        "\n",
        "plt.subplot(2, 1, 2)\n",
        "plt.plot(loss, label='Training Loss')\n",
        "plt.plot(val_loss, label='Validation Loss')\n",
        "plt.ylim([0, 1.0])\n",
        "plt.plot([initial_epochs-1,initial_epochs-1],\n",
        "         plt.ylim(), label='Start Fine Tuning')\n",
        "plt.legend(loc='upper right')\n",
        "plt.title('Training and Validation Loss')\n",
        "plt.xlabel('epoch')\n",
        "plt.show()"
      ],
      "execution_count": null,
      "outputs": []
    },
    {
      "cell_type": "markdown",
      "metadata": {
        "id": "usWrlihB9_ZD",
        "colab_type": "text"
      },
      "source": [
        "# How to prevent Google Colab from disconnecting?\n",
        "Set a javascript interval to click on the connect button every 60 seconds. Open developer-settings (in your web-browser) with Ctrl+Shift+I then click on console tab and type this on the console prompt.\n",
        "\n",
        "\n",
        "```\n",
        "function ConnectButton(){\n",
        "    console.log(\"Connect pushed\"); \n",
        "    document.querySelector(\"#connect\").click() \n",
        "}\n",
        "setInterval(ConnectButton,60000);\n",
        "```\n",
        "\n"
      ]
    },
    {
      "cell_type": "code",
      "metadata": {
        "id": "qVpUzxYtwA9F",
        "colab_type": "code",
        "colab": {}
      },
      "source": [
        "model1 = tf.keras.models.load_model(\"model.h5\")\n",
        "model2 = tf.keras.models.load_model(\"model_Xception_tuned.h5\")"
      ],
      "execution_count": null,
      "outputs": []
    },
    {
      "cell_type": "code",
      "metadata": {
        "id": "iOAs58fowJpG",
        "colab_type": "code",
        "colab": {
          "base_uri": "https://localhost:8080/",
          "height": 89
        },
        "outputId": "ed9d765b-d001-4dde-f2f1-97483d340b3c"
      },
      "source": [
        "loss, acc = model1.evaluate(x_val_batch, y_val_batch, verbose=2)\n",
        "print(\"Model1, accuracy: {:5.2f}%\".format(100*acc))\n",
        "\n",
        "loss, acc = model2.evaluate(x_val_batch, y_val_batch, verbose=2)\n",
        "print(\"Model2, accuracy: {:5.2f}%\".format(100*acc))"
      ],
      "execution_count": null,
      "outputs": [
        {
          "output_type": "stream",
          "text": [
            "250/250 - 2s - loss: 0.1627 - accuracy: 0.9563\n",
            "Model1, accuracy: 95.63%\n",
            "250/250 - 4s - loss: 0.2261 - accuracy: 0.9247\n",
            "Model2, accuracy: 92.47%\n"
          ],
          "name": "stdout"
        }
      ]
    },
    {
      "cell_type": "code",
      "metadata": {
        "id": "8zn1K2AI9PqG",
        "colab_type": "code",
        "colab": {}
      },
      "source": [
        "x_test = np.load(\"testing/x_test.npy\")"
      ],
      "execution_count": null,
      "outputs": []
    },
    {
      "cell_type": "code",
      "metadata": {
        "id": "YDq8k-Bi9S1o",
        "colab_type": "code",
        "colab": {}
      },
      "source": [
        "y_test = model1.predict(x_test)"
      ],
      "execution_count": null,
      "outputs": []
    },
    {
      "cell_type": "code",
      "metadata": {
        "id": "I1BhmYM69Uf_",
        "colab_type": "code",
        "colab": {}
      },
      "source": [
        "y_test = np.argmax(y_test, axis=1)"
      ],
      "execution_count": null,
      "outputs": []
    },
    {
      "cell_type": "code",
      "metadata": {
        "id": "XbLQEaDj9VpI",
        "colab_type": "code",
        "colab": {}
      },
      "source": [
        "import pandas as pd\n",
        "pd.Series(y_test).to_csv(\"y_test_cla_trans_02.csv\", header=False, index=False)"
      ],
      "execution_count": null,
      "outputs": []
    }
  ]
}